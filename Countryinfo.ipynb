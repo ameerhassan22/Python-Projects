{
 "cells": [
  {
   "cell_type": "markdown",
   "id": "e773d990",
   "metadata": {},
   "source": [
    "# Countryinfo"
   ]
  },
  {
   "cell_type": "markdown",
   "id": "c83443e4",
   "metadata": {},
   "source": [
    "we find detail about any country"
   ]
  },
  {
   "cell_type": "code",
   "execution_count": 8,
   "id": "4ac79cac",
   "metadata": {},
   "outputs": [],
   "source": [
    "from countryinfo import CountryInfo"
   ]
  },
  {
   "cell_type": "code",
   "execution_count": 9,
   "id": "37dd2705",
   "metadata": {},
   "outputs": [
    {
     "name": "stdout",
     "output_type": "stream",
     "text": [
      "Enter your Country: Egypt\n"
     ]
    }
   ],
   "source": [
    "count = input('Enter your Country: ')\n",
    "country = CountryInfo(count)"
   ]
  },
  {
   "cell_type": "code",
   "execution_count": 13,
   "id": "34fc9c23",
   "metadata": {},
   "outputs": [
    {
     "name": "stdout",
     "output_type": "stream",
     "text": [
      "Capital is  Cairo\n",
      "Languages is  ['ar']\n",
      "Borders are  ['ISR', 'LBY', 'SDN']\n",
      "Currencies is  ['EGP']\n",
      "Other names   ['EG', 'Arab Republic of Egypt']\n",
      "Timezones is  ['UTC+02:00']\n",
      "Population is  87668100\n",
      "Area is  1002450\n",
      "Region is  Africa\n"
     ]
    }
   ],
   "source": [
    "print('Capital is ',country.capital())\n",
    "print('Languages is ',country.languages())\n",
    "print('Borders are ',country.borders())\n",
    "print('Currencies is ',country.currencies())\n",
    "print('Other names  ',country.alt_spellings())\n",
    "print('Timezones is ',country.timezones())\n",
    "print('Population is ',country.population())\n",
    "print('Area is ',country.area())\n",
    "print('Region is ',country.region())"
   ]
  }
 ],
 "metadata": {
  "kernelspec": {
   "display_name": "Python 3 (ipykernel)",
   "language": "python",
   "name": "python3"
  },
  "language_info": {
   "codemirror_mode": {
    "name": "ipython",
    "version": 3
   },
   "file_extension": ".py",
   "mimetype": "text/x-python",
   "name": "python",
   "nbconvert_exporter": "python",
   "pygments_lexer": "ipython3",
   "version": "3.9.13"
  }
 },
 "nbformat": 4,
 "nbformat_minor": 5
}
