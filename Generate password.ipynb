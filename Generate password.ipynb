{
 "cells": [
  {
   "cell_type": "markdown",
   "id": "61ca34cd",
   "metadata": {},
   "source": [
    "# Generate password"
   ]
  },
  {
   "cell_type": "markdown",
   "id": "36d2eac4",
   "metadata": {},
   "source": [
    "we generate password and user's give the length of password that it's need"
   ]
  },
  {
   "cell_type": "code",
   "execution_count": 2,
   "id": "02c52c24",
   "metadata": {},
   "outputs": [],
   "source": [
    "import random"
   ]
  },
  {
   "cell_type": "code",
   "execution_count": 3,
   "id": "42ad4bd8",
   "metadata": {},
   "outputs": [
    {
     "name": "stdout",
     "output_type": "stream",
     "text": [
      " Enter the length of password : 45\n"
     ]
    }
   ],
   "source": [
    "# user input for password length\n",
    "password = int(input(\" Enter the length of password : \"))"
   ]
  },
  {
   "cell_type": "code",
   "execution_count": 4,
   "id": "07df2fa9",
   "metadata": {},
   "outputs": [],
   "source": [
    "# sorting letters , numbers and special characters\n",
    "s = \"abcdefghijklmnopqrstuvwxyz01234567890ABCDEFGHIJKLMNOPQRSTUVWXYZ!@#$^&*()?|/;\""
   ]
  },
  {
   "cell_type": "code",
   "execution_count": 5,
   "id": "79290ed7",
   "metadata": {},
   "outputs": [],
   "source": [
    "# random sampling by joinning the length of the password and the variable s\n",
    "#passwod refer to length of passwod\n",
    "p=\"\".join(random.sample(s,password)) "
   ]
  },
  {
   "cell_type": "code",
   "execution_count": 6,
   "id": "d7670f19",
   "metadata": {},
   "outputs": [
    {
     "name": "stdout",
     "output_type": "stream",
     "text": [
      "jI8!w?z0yq2Ht5b/4rmLWQNU^kZOfVT*0A&gah9pFvd@S\n"
     ]
    }
   ],
   "source": [
    "print(p)"
   ]
  }
 ],
 "metadata": {
  "kernelspec": {
   "display_name": "Python 3 (ipykernel)",
   "language": "python",
   "name": "python3"
  },
  "language_info": {
   "codemirror_mode": {
    "name": "ipython",
    "version": 3
   },
   "file_extension": ".py",
   "mimetype": "text/x-python",
   "name": "python",
   "nbconvert_exporter": "python",
   "pygments_lexer": "ipython3",
   "version": "3.9.13"
  }
 },
 "nbformat": 4,
 "nbformat_minor": 5
}
