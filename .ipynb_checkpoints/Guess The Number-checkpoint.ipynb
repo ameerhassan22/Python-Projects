{
 "cells": [
  {
   "cell_type": "markdown",
   "id": "c8902f3a",
   "metadata": {},
   "source": [
    "# Guess The Number"
   ]
  },
  {
   "cell_type": "markdown",
   "id": "025ff4a2",
   "metadata": {},
   "source": [
    "In this game, the computer thinks of a random number between 1 and 100.\n",
    "\n",
    "The player has 10 chances to guess the number.\n",
    "\n",
    "After each guess, the computer tells the player if it was too high or too low."
   ]
  },
  {
   "cell_type": "code",
   "execution_count": 17,
   "id": "927b349d",
   "metadata": {},
   "outputs": [],
   "source": [
    "import random"
   ]
  },
  {
   "cell_type": "code",
   "execution_count": 18,
   "id": "474fddc8",
   "metadata": {},
   "outputs": [
    {
     "name": "stdout",
     "output_type": "stream",
     "text": [
      "I am thinking of a number between 1 and 100.\n",
      "You have 10 guesses left. Take a guess.\n",
      "Enter the guess number\t50\n",
      "Your guess is too low.\n",
      "You have 9 guesses left. Take a guess.\n",
      "Enter the guess number\t75\n",
      "Your guess is too low.\n",
      "You have 8 guesses left. Take a guess.\n",
      "Enter the guess number\t87\n",
      "Your guess is too low.\n",
      "You have 7 guesses left. Take a guess.\n",
      "Enter the guess number\t93\n",
      "Your guess is too high.\n",
      "You have 6 guesses left. Take a guess.\n",
      "Enter the guess number\t90\n",
      "Your guess is too high.\n",
      "You have 5 guesses left. Take a guess.\n",
      "Enter the guess number\t88\n",
      "Your guess is too low.\n",
      "You have 4 guesses left. Take a guess.\n",
      "Enter the guess number\t89\n",
      "Yay! You guessed my number!\n"
     ]
    }
   ],
   "source": [
    "def askForGuess():\n",
    "    while True:\n",
    "        guess = input('Enter the guess number\\t') # Enter the guess.\n",
    "        if guess.isdecimal():\n",
    "            return int(guess) # Convert string guess to an integer.\n",
    "        print('Please enter a number between 1 and 100.\\n')\n",
    "\n",
    "secretNumber = random.randint(1, 100) # Select a random number.\n",
    "print('I am thinking of a number between 1 and 100.')\n",
    "\n",
    "\n",
    "for i in range(10): # Give the player 10 guesses.\n",
    "    print('You have {} guesses left. Take a guess.'.format(10 - i))\n",
    "    guess = askForGuess()\n",
    "    if guess == secretNumber: # Break out of the for loop if the guess is correct.\n",
    "        break \n",
    "    if guess < secretNumber: # Offer a hint:\n",
    "        print('Your guess is too low.')\n",
    "    if guess > secretNumber:\n",
    "        print('Your guess is too high.')\n",
    "\n",
    " # Reveal the results:\n",
    "if guess == secretNumber:\n",
    "     print('Yay! You guessed my number!')\n",
    "else:\n",
    "     print('Game over. The number I was thinking of was', secretNumber)"
   ]
  },
  {
   "cell_type": "code",
   "execution_count": null,
   "id": "c3b0f72a",
   "metadata": {},
   "outputs": [],
   "source": []
  }
 ],
 "metadata": {
  "kernelspec": {
   "display_name": "Python 3 (ipykernel)",
   "language": "python",
   "name": "python3"
  },
  "language_info": {
   "codemirror_mode": {
    "name": "ipython",
    "version": 3
   },
   "file_extension": ".py",
   "mimetype": "text/x-python",
   "name": "python",
   "nbconvert_exporter": "python",
   "pygments_lexer": "ipython3",
   "version": "3.9.13"
  }
 },
 "nbformat": 4,
 "nbformat_minor": 5
}
