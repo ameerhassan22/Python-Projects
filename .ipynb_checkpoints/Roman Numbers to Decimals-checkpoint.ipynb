{
 "cells": [
  {
   "cell_type": "markdown",
   "id": "f212f7a9",
   "metadata": {},
   "source": [
    "# Roman Numbers to Decimals"
   ]
  },
  {
   "cell_type": "markdown",
   "id": "4b9597e7",
   "metadata": {},
   "source": [
    "convert Roman Numbers to Decimals"
   ]
  },
  {
   "cell_type": "code",
   "execution_count": 4,
   "id": "552576c5",
   "metadata": {},
   "outputs": [],
   "source": [
    "tailes ={'I':1 , 'V':5 , 'X':10 , 'L':50 , 'C':100 , 'D':500 , 'M':1000}"
   ]
  },
  {
   "cell_type": "code",
   "execution_count": 5,
   "id": "b3077509",
   "metadata": {},
   "outputs": [],
   "source": [
    "def RomanNumberstoDecimals(romanNumber):\n",
    "    sum = 0\n",
    "    for i in range(len(romanNumber)-1):\n",
    "        left = romanNumber[i]\n",
    "        right = romanNumber[i+1]\n",
    "        if tailes[left] < tailes[right]:\n",
    "            sum -= tailes[left]\n",
    "        else:\n",
    "            sum += tailes[left]\n",
    "    sum += tailes[romanNumber[-1]]\n",
    "    return sum"
   ]
  },
  {
   "cell_type": "code",
   "execution_count": 6,
   "id": "f5d6158c",
   "metadata": {},
   "outputs": [
    {
     "name": "stdout",
     "output_type": "stream",
     "text": [
      "Enter Romans Numbers: XXL\n"
     ]
    },
    {
     "data": {
      "text/plain": [
       "50"
      ]
     },
     "execution_count": 6,
     "metadata": {},
     "output_type": "execute_result"
    }
   ],
   "source": [
    "roman = input('Enter Romans Numbers: ')\n",
    "RomanNumberstoDecimals(roman)"
   ]
  }
 ],
 "metadata": {
  "kernelspec": {
   "display_name": "Python 3 (ipykernel)",
   "language": "python",
   "name": "python3"
  },
  "language_info": {
   "codemirror_mode": {
    "name": "ipython",
    "version": 3
   },
   "file_extension": ".py",
   "mimetype": "text/x-python",
   "name": "python",
   "nbconvert_exporter": "python",
   "pygments_lexer": "ipython3",
   "version": "3.9.13"
  }
 },
 "nbformat": 4,
 "nbformat_minor": 5
}
