{
 "cells": [
  {
   "cell_type": "markdown",
   "id": "263b9e48",
   "metadata": {},
   "source": [
    "# validate anagrams"
   ]
  },
  {
   "cell_type": "markdown",
   "id": "16ae20dd",
   "metadata": {},
   "source": [
    "we assure that two word have the same alphata"
   ]
  },
  {
   "cell_type": "code",
   "execution_count": 1,
   "id": "1cb37f15",
   "metadata": {},
   "outputs": [
    {
     "name": "stdout",
     "output_type": "stream",
     "text": [
      "Enter word 1 word\n",
      "Enter word 2 dorw\n"
     ]
    }
   ],
   "source": [
    "#input\n",
    "s1 = input(\"Enter word 1 \")\n",
    "s2 = input(\"Enter word 2 \")"
   ]
  },
  {
   "cell_type": "code",
   "execution_count": 2,
   "id": "1e038bca",
   "metadata": {},
   "outputs": [],
   "source": [
    "# funcition \n",
    "def anagram(s1,s2):\n",
    "    s1 = s1.lower()\n",
    "    s2 = s2.lower()\n",
    "    return sorted(s1) == sorted(s2)"
   ]
  },
  {
   "cell_type": "code",
   "execution_count": 3,
   "id": "b9246363",
   "metadata": {},
   "outputs": [
    {
     "name": "stdout",
     "output_type": "stream",
     "text": [
      "True\n"
     ]
    }
   ],
   "source": [
    "# examples of words\n",
    "x = anagram(s1,s2)\n",
    "print(x)"
   ]
  }
 ],
 "metadata": {
  "kernelspec": {
   "display_name": "Python 3 (ipykernel)",
   "language": "python",
   "name": "python3"
  },
  "language_info": {
   "codemirror_mode": {
    "name": "ipython",
    "version": 3
   },
   "file_extension": ".py",
   "mimetype": "text/x-python",
   "name": "python",
   "nbconvert_exporter": "python",
   "pygments_lexer": "ipython3",
   "version": "3.9.13"
  }
 },
 "nbformat": 4,
 "nbformat_minor": 5
}
