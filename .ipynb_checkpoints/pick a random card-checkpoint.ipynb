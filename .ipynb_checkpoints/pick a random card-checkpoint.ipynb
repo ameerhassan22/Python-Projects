{
 "cells": [
  {
   "cell_type": "markdown",
   "id": "ed082a8d",
   "metadata": {},
   "source": [
    "# pick a random card"
   ]
  },
  {
   "cell_type": "markdown",
   "id": "142d7269",
   "metadata": {},
   "source": [
    "we choice a random rank and a random card "
   ]
  },
  {
   "cell_type": "code",
   "execution_count": 1,
   "id": "4b084337",
   "metadata": {},
   "outputs": [],
   "source": [
    "# call randam libarey\n",
    "import random"
   ]
  },
  {
   "cell_type": "code",
   "execution_count": 2,
   "id": "38295d9a",
   "metadata": {},
   "outputs": [],
   "source": [
    "cards = [\"Diaamonds\",\"Spades\",\"Hearts\",\"Clubs\"]"
   ]
  },
  {
   "cell_type": "code",
   "execution_count": 3,
   "id": "d906c175",
   "metadata": {},
   "outputs": [],
   "source": [
    "ranks = [\"Jack\",\"Queen\",\"King\",\"Ace\"]"
   ]
  },
  {
   "cell_type": "code",
   "execution_count": 4,
   "id": "80481f7e",
   "metadata": {},
   "outputs": [
    {
     "name": "stdout",
     "output_type": "stream",
     "text": [
      "The ['Queen'] of ['Clubs']\n"
     ]
    }
   ],
   "source": [
    "# funcition of  choice random rank and card \n",
    "def pick_card():\n",
    "    card = random.choices(cards)\n",
    "    rank = random.choices(ranks)\n",
    "    return(f\"The {rank} of {card}\")\n",
    "#print \n",
    "print(pick_card())"
   ]
  }
 ],
 "metadata": {
  "kernelspec": {
   "display_name": "Python 3 (ipykernel)",
   "language": "python",
   "name": "python3"
  },
  "language_info": {
   "codemirror_mode": {
    "name": "ipython",
    "version": 3
   },
   "file_extension": ".py",
   "mimetype": "text/x-python",
   "name": "python",
   "nbconvert_exporter": "python",
   "pygments_lexer": "ipython3",
   "version": "3.9.13"
  }
 },
 "nbformat": 4,
 "nbformat_minor": 5
}
