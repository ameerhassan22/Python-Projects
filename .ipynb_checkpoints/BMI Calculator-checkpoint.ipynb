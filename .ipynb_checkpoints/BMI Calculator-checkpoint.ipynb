{
 "cells": [
  {
   "cell_type": "markdown",
   "id": "fda3fb2d",
   "metadata": {},
   "source": [
    "# BMI Calculator"
   ]
  },
  {
   "cell_type": "markdown",
   "id": "94b630c9",
   "metadata": {},
   "source": [
    "we calculate the BMI measurement"
   ]
  },
  {
   "cell_type": "markdown",
   "id": "41cd5472",
   "metadata": {},
   "source": [
    "BMI = Weight / (Height* Height)"
   ]
  },
  {
   "cell_type": "code",
   "execution_count": 1,
   "id": "367de328",
   "metadata": {},
   "outputs": [
    {
     "name": "stdout",
     "output_type": "stream",
     "text": [
      "Enter your height in cetimeters: 180\n",
      "Enter your weight in kg: 78\n"
     ]
    }
   ],
   "source": [
    "Height = float(input('Enter your height in cetimeters: '))\n",
    "Weight = float(input('Enter your weight in kg: '))"
   ]
  },
  {
   "cell_type": "code",
   "execution_count": 2,
   "id": "e78e607c",
   "metadata": {},
   "outputs": [],
   "source": [
    "Height /= 100\n",
    "BMI = Weight / (Height* Height)"
   ]
  },
  {
   "cell_type": "code",
   "execution_count": 3,
   "id": "874b5f9a",
   "metadata": {},
   "outputs": [
    {
     "name": "stdout",
     "output_type": "stream",
     "text": [
      "your Body Mass Index is :  24.074074074074073\n",
      "you are Healthy\n"
     ]
    }
   ],
   "source": [
    "print('your Body Mass Index is : ',BMI)\n",
    "if(BMI > 0):\n",
    "    if(BMI <= 16):\n",
    "        print('you are severely underweight')\n",
    "    elif(BMI <= 18.5):\n",
    "         print('you are underweight')\n",
    "    elif(BMI <= 25):\n",
    "        print('you are Healthy')\n",
    "    elif(BMI <= 30):\n",
    "        print('you are overweight')\n",
    "    else:\n",
    "        print('Enter valid details')"
   ]
  }
 ],
 "metadata": {
  "kernelspec": {
   "display_name": "Python 3 (ipykernel)",
   "language": "python",
   "name": "python3"
  },
  "language_info": {
   "codemirror_mode": {
    "name": "ipython",
    "version": 3
   },
   "file_extension": ".py",
   "mimetype": "text/x-python",
   "name": "python",
   "nbconvert_exporter": "python",
   "pygments_lexer": "ipython3",
   "version": "3.9.13"
  }
 },
 "nbformat": 4,
 "nbformat_minor": 5
}
