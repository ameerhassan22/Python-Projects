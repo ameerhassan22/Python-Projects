{
 "cells": [
  {
   "cell_type": "markdown",
   "id": "bb0b239a",
   "metadata": {},
   "source": [
    "# Factor Finder"
   ]
  },
  {
   "cell_type": "markdown",
   "id": "dde22cdd",
   "metadata": {},
   "source": [
    "A number’s factors are any two other numbers\n",
    "that, when multiplied with each other,\n",
    "produce the number.\n",
    "\n",
    "For example, 2 × 13 =\n",
    "26, so 2 and 13 are factors of 26. Also, 1 × 26 =\n",
    "26, so 1 and 26 are also factors of 26. Therefore, we\n",
    "say that 26 has four factors: 1, 2, 13, and 26."
   ]
  },
  {
   "cell_type": "code",
   "execution_count": 1,
   "id": "a18072c9",
   "metadata": {},
   "outputs": [],
   "source": [
    "import math, sys"
   ]
  },
  {
   "cell_type": "code",
   "execution_count": 3,
   "id": "a4979d6d",
   "metadata": {},
   "outputs": [
    {
     "name": "stdout",
     "output_type": "stream",
     "text": [
      "A number's factors are two numbers that, when multiplied with each other, produce the number.\n",
      "Enter a positive whole number to factor (or press q to QUIT):\n",
      "> 23\n",
      "1, 23\n",
      "Enter a positive whole number to factor (or press q to QUIT):\n",
      "> 45\n",
      "1, 3, 5, 9, 15, 45\n",
      "Enter a positive whole number to factor (or press q to QUIT):\n",
      "> q\n"
     ]
    },
    {
     "ename": "SystemExit",
     "evalue": "",
     "output_type": "error",
     "traceback": [
      "An exception has occurred, use %tb to see the full traceback.\n",
      "\u001b[1;31mSystemExit\u001b[0m\n"
     ]
    }
   ],
   "source": [
    "print(\"A number's factors are two numbers that, when multiplied with each other, produce the number.\")\n",
    "    \n",
    "while True: # Main program loop.\n",
    "    print('Enter a positive whole number to factor (or press q to QUIT):')\n",
    "    response = input('> ')\n",
    "    if response == 'q':\n",
    "        sys.exit()\n",
    "   \n",
    "    if not (response.isdecimal() and int(response) > 0):\n",
    "        continue\n",
    "    number = int(response)\n",
    "    factors = []\n",
    "   \n",
    "    # Find the factors of number:\n",
    "    for i in range(1, int(math.sqrt(number)) + 1):\n",
    "        if number % i == 0: # If there's no remainder, it is a factor.\n",
    "            factors.append(i)\n",
    "            factors.append(number // i)\n",
    "# Convert to a set to get rid of duplicate factors:\n",
    "    factors = list(set(factors))\n",
    "    factors.sort()\n",
    " # Display the results: \n",
    "    for i, factor in enumerate(factors):\n",
    "        factors[i] = str(factor)\n",
    "    print(', '.join(factors))"
   ]
  },
  {
   "cell_type": "code",
   "execution_count": null,
   "id": "1cd9ca57",
   "metadata": {},
   "outputs": [],
   "source": []
  }
 ],
 "metadata": {
  "kernelspec": {
   "display_name": "Python 3 (ipykernel)",
   "language": "python",
   "name": "python3"
  },
  "language_info": {
   "codemirror_mode": {
    "name": "ipython",
    "version": 3
   },
   "file_extension": ".py",
   "mimetype": "text/x-python",
   "name": "python",
   "nbconvert_exporter": "python",
   "pygments_lexer": "ipython3",
   "version": "3.9.13"
  }
 },
 "nbformat": 4,
 "nbformat_minor": 5
}
